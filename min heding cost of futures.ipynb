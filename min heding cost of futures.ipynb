{
 "cells": [
  {
   "cell_type": "code",
   "execution_count": 1,
   "metadata": {},
   "outputs": [],
   "source": [
    "import pandas as pd\n",
    "import numpy as np\n",
    "import statsmodels.api as sm\n",
    "from numpy import NaN\n",
    "import warnings\n",
    "warnings.filterwarnings(\"ignore\")"
   ]
  },
  {
   "cell_type": "code",
   "execution_count": 2,
   "metadata": {},
   "outputs": [],
   "source": [
    "X = '000300.XSHG'\n",
    "type = 'IF'\n",
    "start_date = '2020-02-22'\n",
    "end_date = '2021-07-16'\n",
    "period = get_trading_dates(start_date,end_date)\n",
    "future_list = ['IF2003','IF2004','IF2005','IF2006','IF2007','IF2008','IF2009',\n",
    "               'IF2010','IF2011','IF2012','IF2101','IF2102','IF2103','IF2104',\n",
    "               'IF2105','IF2106','IF2107','IF2108','IF2109']\n",
    "df = pd.DataFrame(index = period,columns = future_list)\n",
    "df_return = get_price(future_list,start_date,end_date,fields = 'close',expect_df = False)\n",
    "df_return = df_return[future_list]\n",
    "df_X = get_price(X,start_date,end_date,'1d',fields = 'close',expect_df = False)\n",
    "for i in range(df_return.shape[0]):\n",
    "    df_return.iloc[i,:] = df_X[i]-df_return.iloc[i,:]\n",
    "\n",
    "df_return_daily = df_return - df_return.shift(-1)"
   ]
  },
  {
   "cell_type": "code",
   "execution_count": 3,
   "metadata": {},
   "outputs": [
    {
     "data": {
      "text/plain": [
       "415.46610000000055"
      ]
     },
     "execution_count": 3,
     "metadata": {},
     "output_type": "execute_result"
    }
   ],
   "source": [
    "'''策略一：始终购买主力合约'''\n",
    "Futures = futures.get_dominant(type,start_date,end_date,rule = 1,rank = 1)\n",
    "for i in range(df.shape[0]):\n",
    "    for j in range(df.shape[1]):\n",
    "        func = lambda x: 1 if (Futures[i] == df.columns[j]) else 0\n",
    "        df.iloc[i,j] = func(df.iloc[i,j])\n",
    "sum_return = 0\n",
    "for i in range(0,len(Futures)-1):\n",
    "    sum_return += (df_return_daily[Futures[i]][i])\n",
    "\n",
    "sum_return"
   ]
  },
  {
   "cell_type": "code",
   "execution_count": 4,
   "metadata": {},
   "outputs": [
    {
     "data": {
      "text/plain": [
       "230.66610000000264"
      ]
     },
     "execution_count": 4,
     "metadata": {},
     "output_type": "execute_result"
    }
   ],
   "source": [
    "'''策略二：始终购买次主力合约'''\n",
    "Futures = futures.get_dominant(type,start_date,end_date,rule = 1,rank = 2)\n",
    "for i in range(df.shape[0]):\n",
    "    for j in range(df.shape[1]):\n",
    "        func = lambda x: 1 if (Futures[i] == df.columns[j]) else 0\n",
    "        df.iloc[i,j] = func(df.iloc[i,j])\n",
    "sum_return = 0\n",
    "for i in range(0,len(Futures)-1):\n",
    "    sum_return += df_return_daily[Futures[i]][i]\n",
    "\n",
    "sum_return"
   ]
  },
  {
   "cell_type": "code",
   "execution_count": 5,
   "metadata": {},
   "outputs": [
    {
     "data": {
      "text/plain": [
       "376.06610000000273"
      ]
     },
     "execution_count": 5,
     "metadata": {},
     "output_type": "execute_result"
    }
   ],
   "source": [
    "'''策略三：始终购买近月合约'''\n",
    "maturity_list = []\n",
    "for f in future_list:\n",
    "    maturity_list.append(instruments(f).maturity_date)\n",
    "sum_return = sum(df_return_daily.loc[:maturity_list[0]].iloc[:-1,0])\n",
    "for i in range(1,len(maturity_list)):\n",
    "    sum_return += (sum(df_return_daily.loc[maturity_list[i-1]:maturity_list[i]].iloc[:-1,i]))\n",
    "sum_return"
   ]
  },
  {
   "cell_type": "code",
   "execution_count": 6,
   "metadata": {},
   "outputs": [
    {
     "data": {
      "text/plain": [
       "371.66610000000264"
      ]
     },
     "execution_count": 6,
     "metadata": {},
     "output_type": "execute_result"
    }
   ],
   "source": [
    "'''策略四：始终购买远月合约'''\n",
    "maturity_list = []\n",
    "for f in future_list:\n",
    "    maturity_list.append(instruments(f).maturity_date)\n",
    "sum_return = sum(df_return_daily.loc[:maturity_list[1]].iloc[:-1,1])\n",
    "for i in range(1,len(maturity_list)-1):\n",
    "    sum_return += (sum(df_return_daily.loc[maturity_list[i]:maturity_list[i+1]].iloc[:-1,i+1]))\n",
    "sum_return"
   ]
  },
  {
   "cell_type": "code",
   "execution_count": 16,
   "metadata": {},
   "outputs": [
    {
     "data": {
      "text/plain": [
       "200.86610000000837"
      ]
     },
     "execution_count": 16,
     "metadata": {},
     "output_type": "execute_result"
    }
   ],
   "source": [
    "'''策略五：购买当日bpd小者'''\n",
    "basis_df = pd.DataFrame(index = get_trading_dates(start_date,end_date),columns = ['dom1','dom2', X, 'dom1_close','dom2_close','basis1',\n",
    "                                                                            'basis2','matu1','matu2','bpd1','bpd2'])\n",
    "basis_df['dom1'] = futures.get_dominant(type,start_date, end_date, rule = 1, rank = 1)\n",
    "basis_df['dom2'] = futures.get_dominant(type,start_date,end_date, rule = 1, rank = 2)\n",
    "\n",
    "for i in range(basis_df.shape[0]):\n",
    "    basis_df['dom1_close'][i] = float(get_price(basis_df['dom1'][i],basis_df.index[i],basis_df.index[i],fields = 'close').iloc[0])\n",
    "    basis_df['dom2_close'][i] = float(get_price(basis_df['dom2'][i],basis_df.index[i],basis_df.index[i],fields = 'close').iloc[0])\n",
    "                         \n",
    "basis_df[X] = get_price(X, start_date, end_date, frequency = '1d', fields = ['close'],expect_df = False)\n",
    "basis_df['basis1'] = basis_df[X]-basis_df['dom1_close']\n",
    "basis_df['basis2'] = basis_df[X]-basis_df['dom2_close']\n",
    "basis_df['matu1'] = basis_df['dom1'].apply(lambda x:instruments(x).maturity_date)\n",
    "basis_df['matu2'] = basis_df['dom2'].apply(lambda x:instruments(x).maturity_date)\n",
    "for i in range(basis_df.shape[0]):\n",
    "    basis_df['bpd1'][i] = len(get_trading_dates(basis_df.index[i],basis_df.matu1[i]))\n",
    "    basis_df['bpd2'][i] = len(get_trading_dates(basis_df.index[i],basis_df.matu2[i]))\n",
    "basis_df['bpd1'] = basis_df['basis1'] / basis_df['bpd1']\n",
    "basis_df['bpd2'] = basis_df['basis2'] / basis_df['bpd2']\n",
    "\n",
    "Futures = []\n",
    "for l in range(basis_df.shape[0]):\n",
    "    if (basis_df.bpd1[l] <= basis_df.bpd2[l]):\n",
    "        Futures.append(basis_df.dom1[l])\n",
    "    else:\n",
    "        Futures.append(basis_df.dom2[l])\n",
    "        \n",
    "sum_return = 0\n",
    "for i in range(0,len(Futures)-1):\n",
    "    sum_return += df_return_daily[Futures[i]][i]\n",
    "\n",
    "sum_return"
   ]
  },
  {
   "cell_type": "code",
   "execution_count": 8,
   "metadata": {},
   "outputs": [],
   "source": [
    "# basis的绝对值和第二天return的相关性 当basis比较大的时候 就算bpd小 第二天也会亏掉很多 可以把大basis滤掉\n",
    "zibianliang = basis_df.basis1"
   ]
  },
  {
   "cell_type": "code",
   "execution_count": 9,
   "metadata": {},
   "outputs": [
    {
     "data": {
      "text/plain": [
       "345.2661000000062"
      ]
     },
     "execution_count": 9,
     "metadata": {},
     "output_type": "execute_result"
    }
   ],
   "source": [
    "'''策略六：如果basis向下冲破5日basis_ma则买2'''\n",
    "def generate_ma(input = pd.DataFrame(),term = 5):\n",
    "    input['basis_diff'] = input['basis1']-input['basis2']\n",
    "    input['basis_diff_ma'] = input['basis_diff'].rolling(window =term).mean()\n",
    "    return input\n",
    "\n",
    "def go_ma(input = pd.DataFrame()):\n",
    "    Futures = []\n",
    "    length = input.shape[0]\n",
    "    selection = pd.DataFrame(index = input.index, columns = ['basis1(y/n)','basis2(y/n)','chg1','chg2'])\n",
    "    selection['basis1(y/n)'] = 1 #默认都选主力\n",
    "    for i in range(length):\n",
    "        if input['basis_diff'][i]<input['basis_diff_ma'][i]:\n",
    "            Futures.append(input.dom2[i])\n",
    "        else:\n",
    "            Futures.append(input.dom1[i])\n",
    "    return Futures\n",
    "\n",
    "generate_ma(basis_df)\n",
    "Futures = go_ma(basis_df)\n",
    "sum_return = 0\n",
    "for i in range(0,len(Futures)-1):\n",
    "    sum_return += df_return_daily[Futures[i]][i]\n",
    "\n",
    "sum_return"
   ]
  },
  {
   "cell_type": "code",
   "execution_count": 17,
   "metadata": {},
   "outputs": [
    {
     "data": {
      "text/plain": [
       "-1.931300000000192"
      ]
     },
     "execution_count": 17,
     "metadata": {},
     "output_type": "execute_result"
    }
   ],
   "source": [
    "df_return_daily.index[18]\n",
    "df_return_daily[Futures[18]][18]\n"
   ]
  }
 ],
 "metadata": {
  "kernelspec": {
   "display_name": "python3.9",
   "language": "python",
   "name": "python3.9"
  },
  "language_info": {
   "codemirror_mode": {
    "name": "ipython",
    "version": 3
   },
   "file_extension": ".py",
   "mimetype": "text/x-python",
   "name": "python",
   "nbconvert_exporter": "python",
   "pygments_lexer": "ipython3",
   "version": "3.9.5"
  }
 },
 "nbformat": 4,
 "nbformat_minor": 4
}
